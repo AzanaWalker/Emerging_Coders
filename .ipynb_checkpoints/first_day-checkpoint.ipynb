{
  "cells": [
    {
      "metadata": {
        "trusted": true
      },
      "cell_type": "code",
      "source": "x = 2\ny = 5\nxy = 'Hey'\n\nprint(x)\nprint(y)\nprint(xy)\n\n",
      "execution_count": 1,
      "outputs": [
        {
          "output_type": "stream",
          "text": "2\n5\nHey\n",
          "name": "stdout"
        }
      ]
    },
    {
      "metadata": {
        "trusted": true
      },
      "cell_type": "code",
      "source": "x = 2\nstring1 = \"Howard Bison\"\nstring2 = \"Howard Bison \" + str(x)\n\nprint(string1)\nprint(string2)",
      "execution_count": 2,
      "outputs": [
        {
          "output_type": "stream",
          "text": "Howard Bison\nHoward Bison 2\n",
          "name": "stdout"
        }
      ]
    },
    {
      "metadata": {
        "trusted": true
      },
      "cell_type": "code",
      "source": "todays_date = \"9/10/19\"\n\nprint(todays_date)",
      "execution_count": 3,
      "outputs": [
        {
          "output_type": "stream",
          "text": "9/10/19\n",
          "name": "stdout"
        }
      ]
    },
    {
      "metadata": {
        "trusted": true
      },
      "cell_type": "code",
      "source": "a_list = ['a', 'b', 'c']\n\nprint(a_list)",
      "execution_count": 4,
      "outputs": [
        {
          "output_type": "stream",
          "text": "['a', 'b', 'c']\n",
          "name": "stdout"
        }
      ]
    },
    {
      "metadata": {
        "trusted": true
      },
      "cell_type": "code",
      "source": "Azanas_faves = ['palava sauce', 'cheese', 'pasta', 'bread', 'fries']\n\nprint(Azanas_faves)",
      "execution_count": 7,
      "outputs": [
        {
          "output_type": "stream",
          "text": "['palava sauce', 'cheese', 'pasta', 'bread', 'fries']\n",
          "name": "stdout"
        }
      ]
    },
    {
      "metadata": {
        "trusted": true
      },
      "cell_type": "code",
      "source": "artist = {'first_name': 'Tyler', 'last_name': ', the Creator'}\n\nprint(artist)",
      "execution_count": 8,
      "outputs": [
        {
          "output_type": "stream",
          "text": "{'first_name': 'Tyler', 'last_name': ', the Creator'}\n",
          "name": "stdout"
        }
      ]
    },
    {
      "metadata": {
        "trusted": true
      },
      "cell_type": "code",
      "source": "# // dont want a decimal\n# ** to the power of\n# % mod-remainder\n# == equal to",
      "execution_count": null,
      "outputs": []
    }
  ],
  "metadata": {
    "kernelspec": {
      "name": "python36",
      "display_name": "Python 3.6",
      "language": "python"
    },
    "language_info": {
      "mimetype": "text/x-python",
      "nbconvert_exporter": "python",
      "name": "python",
      "pygments_lexer": "ipython3",
      "version": "3.6.6",
      "file_extension": ".py",
      "codemirror_mode": {
        "version": 3,
        "name": "ipython"
      }
    }
  },
  "nbformat": 4,
  "nbformat_minor": 2
}